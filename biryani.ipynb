{
 "cells": [
  {
   "cell_type": "code",
   "execution_count": 2,
   "id": "29d4db7b",
   "metadata": {},
   "outputs": [
    {
     "data": {
      "application/vnd.microsoft.datawrangler.viewer.v0+json": {
       "columns": [
        {
         "name": "index",
         "rawType": "int64",
         "type": "integer"
        },
        {
         "name": "Age",
         "rawType": "int64",
         "type": "integer"
        },
        {
         "name": "Height",
         "rawType": "float64",
         "type": "float"
        },
        {
         "name": "Weight",
         "rawType": "float64",
         "type": "float"
        },
        {
         "name": "Gender",
         "rawType": "object",
         "type": "string"
        },
        {
         "name": "Likeness",
         "rawType": "object",
         "type": "string"
        }
       ],
       "ref": "99f6fa61-edef-4597-8ea9-20149f7a6e6f",
       "rows": [
        [
         "0",
         "53",
         "153.27836136642108",
         "79.18345344467737",
         "Male",
         "Samosa"
        ],
        [
         "1",
         "56",
         "199.3336361643481",
         "60.45355421379086",
         "Male",
         "Samosa"
        ],
        [
         "2",
         "40",
         "176.1372876569647",
         "79.70330850050301",
         "Female",
         "Samosa"
        ],
        [
         "3",
         "64",
         "168.84733725569245",
         "57.18176277194586",
         "Female",
         "Biryani"
        ],
        [
         "4",
         "47",
         "176.45365080264986",
         "95.34592481697972",
         "Male",
         "Samosa"
        ]
       ],
       "shape": {
        "columns": 5,
        "rows": 5
       }
      },
      "text/html": [
       "<div>\n",
       "<style scoped>\n",
       "    .dataframe tbody tr th:only-of-type {\n",
       "        vertical-align: middle;\n",
       "    }\n",
       "\n",
       "    .dataframe tbody tr th {\n",
       "        vertical-align: top;\n",
       "    }\n",
       "\n",
       "    .dataframe thead th {\n",
       "        text-align: right;\n",
       "    }\n",
       "</style>\n",
       "<table border=\"1\" class=\"dataframe\">\n",
       "  <thead>\n",
       "    <tr style=\"text-align: right;\">\n",
       "      <th></th>\n",
       "      <th>Age</th>\n",
       "      <th>Height</th>\n",
       "      <th>Weight</th>\n",
       "      <th>Gender</th>\n",
       "      <th>Likeness</th>\n",
       "    </tr>\n",
       "  </thead>\n",
       "  <tbody>\n",
       "    <tr>\n",
       "      <th>0</th>\n",
       "      <td>53</td>\n",
       "      <td>153.278361</td>\n",
       "      <td>79.183453</td>\n",
       "      <td>Male</td>\n",
       "      <td>Samosa</td>\n",
       "    </tr>\n",
       "    <tr>\n",
       "      <th>1</th>\n",
       "      <td>56</td>\n",
       "      <td>199.333636</td>\n",
       "      <td>60.453554</td>\n",
       "      <td>Male</td>\n",
       "      <td>Samosa</td>\n",
       "    </tr>\n",
       "    <tr>\n",
       "      <th>2</th>\n",
       "      <td>40</td>\n",
       "      <td>176.137288</td>\n",
       "      <td>79.703309</td>\n",
       "      <td>Female</td>\n",
       "      <td>Samosa</td>\n",
       "    </tr>\n",
       "    <tr>\n",
       "      <th>3</th>\n",
       "      <td>64</td>\n",
       "      <td>168.847337</td>\n",
       "      <td>57.181763</td>\n",
       "      <td>Female</td>\n",
       "      <td>Biryani</td>\n",
       "    </tr>\n",
       "    <tr>\n",
       "      <th>4</th>\n",
       "      <td>47</td>\n",
       "      <td>176.453651</td>\n",
       "      <td>95.345925</td>\n",
       "      <td>Male</td>\n",
       "      <td>Samosa</td>\n",
       "    </tr>\n",
       "  </tbody>\n",
       "</table>\n",
       "</div>"
      ],
      "text/plain": [
       "   Age      Height     Weight  Gender Likeness\n",
       "0   53  153.278361  79.183453    Male   Samosa\n",
       "1   56  199.333636  60.453554    Male   Samosa\n",
       "2   40  176.137288  79.703309  Female   Samosa\n",
       "3   64  168.847337  57.181763  Female  Biryani\n",
       "4   47  176.453651  95.345925    Male   Samosa"
      ]
     },
     "execution_count": 2,
     "metadata": {},
     "output_type": "execute_result"
    }
   ],
   "source": [
    "# import libraries\n",
    "import pandas as pd\n",
    "df = pd.read_csv(\"mldata.csv\")\n",
    "df.head()"
   ]
  },
  {
   "cell_type": "code",
   "execution_count": 3,
   "id": "99218a15",
   "metadata": {},
   "outputs": [
    {
     "name": "stderr",
     "output_type": "stream",
     "text": [
      "C:\\Users\\user\\AppData\\Local\\Temp\\ipykernel_14564\\4284152366.py:2: FutureWarning: Downcasting behavior in `replace` is deprecated and will be removed in a future version. To retain the old behavior, explicitly call `result.infer_objects(copy=False)`. To opt-in to the future behavior, set `pd.set_option('future.no_silent_downcasting', True)`\n",
      "  df[\"Gender\"]= df[\"Gender\"].replace(\"Female\", 0)\n"
     ]
    },
    {
     "data": {
      "application/vnd.microsoft.datawrangler.viewer.v0+json": {
       "columns": [
        {
         "name": "index",
         "rawType": "int64",
         "type": "integer"
        },
        {
         "name": "Age",
         "rawType": "int64",
         "type": "integer"
        },
        {
         "name": "Height",
         "rawType": "float64",
         "type": "float"
        },
        {
         "name": "Weight",
         "rawType": "float64",
         "type": "float"
        },
        {
         "name": "Gender",
         "rawType": "int64",
         "type": "integer"
        },
        {
         "name": "Likeness",
         "rawType": "object",
         "type": "string"
        }
       ],
       "ref": "a2ec1b3b-22e0-4196-aa88-802a0e50c7c7",
       "rows": [
        [
         "0",
         "53",
         "153.27836136642108",
         "79.18345344467737",
         "1",
         "Samosa"
        ],
        [
         "1",
         "56",
         "199.3336361643481",
         "60.45355421379086",
         "1",
         "Samosa"
        ],
        [
         "2",
         "40",
         "176.1372876569647",
         "79.70330850050301",
         "0",
         "Samosa"
        ],
        [
         "3",
         "64",
         "168.84733725569245",
         "57.18176277194586",
         "0",
         "Biryani"
        ],
        [
         "4",
         "47",
         "176.45365080264986",
         "95.34592481697972",
         "1",
         "Samosa"
        ]
       ],
       "shape": {
        "columns": 5,
        "rows": 5
       }
      },
      "text/html": [
       "<div>\n",
       "<style scoped>\n",
       "    .dataframe tbody tr th:only-of-type {\n",
       "        vertical-align: middle;\n",
       "    }\n",
       "\n",
       "    .dataframe tbody tr th {\n",
       "        vertical-align: top;\n",
       "    }\n",
       "\n",
       "    .dataframe thead th {\n",
       "        text-align: right;\n",
       "    }\n",
       "</style>\n",
       "<table border=\"1\" class=\"dataframe\">\n",
       "  <thead>\n",
       "    <tr style=\"text-align: right;\">\n",
       "      <th></th>\n",
       "      <th>Age</th>\n",
       "      <th>Height</th>\n",
       "      <th>Weight</th>\n",
       "      <th>Gender</th>\n",
       "      <th>Likeness</th>\n",
       "    </tr>\n",
       "  </thead>\n",
       "  <tbody>\n",
       "    <tr>\n",
       "      <th>0</th>\n",
       "      <td>53</td>\n",
       "      <td>153.278361</td>\n",
       "      <td>79.183453</td>\n",
       "      <td>1</td>\n",
       "      <td>Samosa</td>\n",
       "    </tr>\n",
       "    <tr>\n",
       "      <th>1</th>\n",
       "      <td>56</td>\n",
       "      <td>199.333636</td>\n",
       "      <td>60.453554</td>\n",
       "      <td>1</td>\n",
       "      <td>Samosa</td>\n",
       "    </tr>\n",
       "    <tr>\n",
       "      <th>2</th>\n",
       "      <td>40</td>\n",
       "      <td>176.137288</td>\n",
       "      <td>79.703309</td>\n",
       "      <td>0</td>\n",
       "      <td>Samosa</td>\n",
       "    </tr>\n",
       "    <tr>\n",
       "      <th>3</th>\n",
       "      <td>64</td>\n",
       "      <td>168.847337</td>\n",
       "      <td>57.181763</td>\n",
       "      <td>0</td>\n",
       "      <td>Biryani</td>\n",
       "    </tr>\n",
       "    <tr>\n",
       "      <th>4</th>\n",
       "      <td>47</td>\n",
       "      <td>176.453651</td>\n",
       "      <td>95.345925</td>\n",
       "      <td>1</td>\n",
       "      <td>Samosa</td>\n",
       "    </tr>\n",
       "  </tbody>\n",
       "</table>\n",
       "</div>"
      ],
      "text/plain": [
       "   Age      Height     Weight  Gender Likeness\n",
       "0   53  153.278361  79.183453       1   Samosa\n",
       "1   56  199.333636  60.453554       1   Samosa\n",
       "2   40  176.137288  79.703309       0   Samosa\n",
       "3   64  168.847337  57.181763       0  Biryani\n",
       "4   47  176.453651  95.345925       1   Samosa"
      ]
     },
     "execution_count": 3,
     "metadata": {},
     "output_type": "execute_result"
    }
   ],
   "source": [
    "df[\"Gender\"]= df[\"Gender\"].replace(\"Male\", 1)\n",
    "df[\"Gender\"]= df[\"Gender\"].replace(\"Female\", 0)\n",
    "df.head()"
   ]
  },
  {
   "cell_type": "code",
   "execution_count": 4,
   "id": "3b1055c6",
   "metadata": {},
   "outputs": [],
   "source": [
    "# selection of input and output variable\n",
    "x= df[[\"Weight\", \"Gender\"]]\n",
    "y= df[\"Likeness\"]\n"
   ]
  },
  {
   "cell_type": "code",
   "execution_count": 5,
   "id": "41ae6e9a",
   "metadata": {},
   "outputs": [
    {
     "data": {
      "application/vnd.microsoft.datawrangler.viewer.v0+json": {
       "columns": [
        {
         "name": "index",
         "rawType": "int64",
         "type": "integer"
        },
        {
         "name": "Weight",
         "rawType": "float64",
         "type": "float"
        },
        {
         "name": "Gender",
         "rawType": "int64",
         "type": "integer"
        }
       ],
       "ref": "1afb2565-c614-4484-b177-8c7db9765f32",
       "rows": [
        [
         "0",
         "79.18345344467737",
         "1"
        ],
        [
         "1",
         "60.45355421379086",
         "1"
        ],
        [
         "2",
         "79.70330850050301",
         "0"
        ],
        [
         "3",
         "57.18176277194586",
         "0"
        ],
        [
         "4",
         "95.34592481697972",
         "1"
        ]
       ],
       "shape": {
        "columns": 2,
        "rows": 5
       }
      },
      "text/html": [
       "<div>\n",
       "<style scoped>\n",
       "    .dataframe tbody tr th:only-of-type {\n",
       "        vertical-align: middle;\n",
       "    }\n",
       "\n",
       "    .dataframe tbody tr th {\n",
       "        vertical-align: top;\n",
       "    }\n",
       "\n",
       "    .dataframe thead th {\n",
       "        text-align: right;\n",
       "    }\n",
       "</style>\n",
       "<table border=\"1\" class=\"dataframe\">\n",
       "  <thead>\n",
       "    <tr style=\"text-align: right;\">\n",
       "      <th></th>\n",
       "      <th>Weight</th>\n",
       "      <th>Gender</th>\n",
       "    </tr>\n",
       "  </thead>\n",
       "  <tbody>\n",
       "    <tr>\n",
       "      <th>0</th>\n",
       "      <td>79.183453</td>\n",
       "      <td>1</td>\n",
       "    </tr>\n",
       "    <tr>\n",
       "      <th>1</th>\n",
       "      <td>60.453554</td>\n",
       "      <td>1</td>\n",
       "    </tr>\n",
       "    <tr>\n",
       "      <th>2</th>\n",
       "      <td>79.703309</td>\n",
       "      <td>0</td>\n",
       "    </tr>\n",
       "    <tr>\n",
       "      <th>3</th>\n",
       "      <td>57.181763</td>\n",
       "      <td>0</td>\n",
       "    </tr>\n",
       "    <tr>\n",
       "      <th>4</th>\n",
       "      <td>95.345925</td>\n",
       "      <td>1</td>\n",
       "    </tr>\n",
       "  </tbody>\n",
       "</table>\n",
       "</div>"
      ],
      "text/plain": [
       "      Weight  Gender\n",
       "0  79.183453       1\n",
       "1  60.453554       1\n",
       "2  79.703309       0\n",
       "3  57.181763       0\n",
       "4  95.345925       1"
      ]
     },
     "execution_count": 5,
     "metadata": {},
     "output_type": "execute_result"
    }
   ],
   "source": [
    "x.head()"
   ]
  },
  {
   "cell_type": "code",
   "execution_count": 5,
   "id": "ce8a6c37",
   "metadata": {},
   "outputs": [
    {
     "data": {
      "application/vnd.microsoft.datawrangler.viewer.v0+json": {
       "columns": [
        {
         "name": "index",
         "rawType": "int64",
         "type": "integer"
        },
        {
         "name": "Likeness",
         "rawType": "object",
         "type": "string"
        }
       ],
       "ref": "b219e818-01dc-4122-8c4a-de3d530a416d",
       "rows": [
        [
         "0",
         "Samosa"
        ],
        [
         "1",
         "Samosa"
        ],
        [
         "2",
         "Samosa"
        ],
        [
         "3",
         "Biryani"
        ],
        [
         "4",
         "Samosa"
        ]
       ],
       "shape": {
        "columns": 1,
        "rows": 5
       }
      },
      "text/plain": [
       "0     Samosa\n",
       "1     Samosa\n",
       "2     Samosa\n",
       "3    Biryani\n",
       "4     Samosa\n",
       "Name: Likeness, dtype: object"
      ]
     },
     "execution_count": 5,
     "metadata": {},
     "output_type": "execute_result"
    }
   ],
   "source": [
    "y.head()"
   ]
  },
  {
   "cell_type": "code",
   "execution_count": 6,
   "id": "3c09724d",
   "metadata": {},
   "outputs": [
    {
     "name": "stderr",
     "output_type": "stream",
     "text": [
      "c:\\Users\\user\\AppData\\Local\\Programs\\Python\\Python313\\Lib\\site-packages\\sklearn\\utils\\validation.py:2749: UserWarning: X does not have valid feature names, but DecisionTreeClassifier was fitted with feature names\n",
      "  warnings.warn(\n"
     ]
    },
    {
     "data": {
      "text/plain": [
       "array(['Biryani'], dtype=object)"
      ]
     },
     "execution_count": 6,
     "metadata": {},
     "output_type": "execute_result"
    }
   ],
   "source": [
    "# machine learning algorithm\n",
    "from sklearn.tree import DecisionTreeClassifier\n",
    "\n",
    "# create and fit our model\n",
    "model = DecisionTreeClassifier()\n",
    "model.fit(x,y)\n",
    "\n",
    "# Prediction\n",
    "model.predict([[90,0]])"
   ]
  },
  {
   "cell_type": "code",
   "execution_count": 40,
   "id": "c453985c",
   "metadata": {},
   "outputs": [
    {
     "data": {
      "text/plain": [
       "array(['Biryani', 'Samosa', 'Samosa', 'Samosa', 'Samosa', 'Biryani',\n",
       "       'Samosa', 'Samosa', 'Biryani', 'Samosa', 'Biryani', 'Samosa',\n",
       "       'Samosa', 'Biryani', 'Biryani', 'Samosa', 'Samosa', 'Biryani',\n",
       "       'Samosa', 'Biryani', 'Samosa', 'Biryani', 'Samosa', 'Samosa',\n",
       "       'Samosa', 'Samosa', 'Samosa', 'Biryani', 'Biryani', 'Samosa',\n",
       "       'Biryani', 'Samosa', 'Biryani', 'Samosa', 'Biryani', 'Biryani',\n",
       "       'Samosa', 'Biryani', 'Biryani', 'Biryani', 'Biryani', 'Samosa',\n",
       "       'Biryani', 'Samosa', 'Samosa', 'Biryani', 'Biryani', 'Biryani',\n",
       "       'Samosa', 'Biryani', 'Samosa', 'Samosa', 'Samosa', 'Biryani',\n",
       "       'Biryani', 'Biryani', 'Biryani', 'Samosa', 'Samosa', 'Samosa',\n",
       "       'Biryani', 'Samosa', 'Biryani', 'Samosa', 'Biryani', 'Samosa',\n",
       "       'Biryani', 'Samosa', 'Biryani', 'Samosa', 'Biryani', 'Samosa',\n",
       "       'Biryani', 'Samosa', 'Biryani', 'Samosa', 'Biryani', 'Biryani',\n",
       "       'Biryani', 'Biryani'], dtype=object)"
      ]
     },
     "execution_count": 40,
     "metadata": {},
     "output_type": "execute_result"
    }
   ],
   "source": [
    "# how to measure the accuracy of our model\n",
    "# split data into test and train (80/20)\n",
    "from sklearn.model_selection import train_test_split\n",
    "from sklearn.metrics import accuracy_score\n",
    "\n",
    "x_train, x_test, y_train, y_test = train_test_split(x, y, test_size=0.2) # 80% training data and 20% tetsing data\n",
    "\n",
    "# Create a model \n",
    "model = DecisionTreeClassifier()\n",
    "# fitting a model\n",
    "model.fit(x_train, y_train)\n",
    "\n",
    "predicted_values = model.predict(x_train)\n",
    "predicted_values "
   ]
  },
  {
   "cell_type": "code",
   "execution_count": 41,
   "id": "a495af2f",
   "metadata": {},
   "outputs": [
    {
     "name": "stdout",
     "output_type": "stream",
     "text": [
      "y_test size: 80\n",
      "predictions size: 80\n"
     ]
    }
   ],
   "source": [
    "# 4. Check sizes (debug step)\n",
    "print(\"y_test size:\", len(y_train))\n",
    "print(\"predictions size:\", len(predicted_values))"
   ]
  },
  {
   "cell_type": "code",
   "execution_count": 43,
   "id": "52e63b7a",
   "metadata": {},
   "outputs": [
    {
     "name": "stdout",
     "output_type": "stream",
     "text": [
      "Accuracy: 1.0\n"
     ]
    }
   ],
   "source": [
    "# 5. Calculate accuracy\n",
    "score = accuracy_score(y_train, predicted_values)\n",
    "print(\"Accuracy:\", score)"
   ]
  },
  {
   "cell_type": "code",
   "execution_count": 6,
   "id": "f8b3206d",
   "metadata": {},
   "outputs": [
    {
     "data": {
      "text/plain": [
       "['foodie.joblib']"
      ]
     },
     "execution_count": 6,
     "metadata": {},
     "output_type": "execute_result"
    }
   ],
   "source": [
    "# how to train and save your model\n",
    "\n",
    "import pandas as pd\n",
    "from sklearn.tree import DecisionTreeClassifier\n",
    "import joblib\n",
    "\n",
    "model= DecisionTreeClassifier().fit(x, y)\n",
    "\n",
    "joblib.dump(model, \"foodie.joblib\") "
   ]
  },
  {
   "cell_type": "code",
   "execution_count": null,
   "id": "57e598f5",
   "metadata": {},
   "outputs": [],
   "source": [
    "# how to import/run a stored or saved model on our data? Assignment"
   ]
  },
  {
   "cell_type": "code",
   "execution_count": 7,
   "id": "24074921",
   "metadata": {},
   "outputs": [],
   "source": [
    "# graph \n",
    "from sklearn import tree\n",
    "\n",
    "model= DecisionTreeClassifier().fit(x,y)\n",
    "# graphic evaluation/ look into what happened \n",
    "tree.export_graphviz(model,\n",
    "                     out_file=\"foodie.dot\",\n",
    "                     feature_names=[\"Age\",\"Gender\"],\n",
    "                     class_names= sorted(y.unique()),\n",
    "                     label=\"all\",\n",
    "                     rounded=True,\n",
    "                     filled=True)"
   ]
  }
 ],
 "metadata": {
  "kernelspec": {
   "display_name": "Python 3",
   "language": "python",
   "name": "python3"
  },
  "language_info": {
   "codemirror_mode": {
    "name": "ipython",
    "version": 3
   },
   "file_extension": ".py",
   "mimetype": "text/x-python",
   "name": "python",
   "nbconvert_exporter": "python",
   "pygments_lexer": "ipython3",
   "version": "3.13.5"
  }
 },
 "nbformat": 4,
 "nbformat_minor": 5
}
